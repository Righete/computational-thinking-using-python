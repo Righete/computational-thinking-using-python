{
  "nbformat": 4,
  "nbformat_minor": 0,
  "metadata": {
    "colab": {
      "provenance": []
    },
    "kernelspec": {
      "name": "python3",
      "display_name": "Python 3"
    },
    "language_info": {
      "name": "python"
    }
  },
  "cells": [
    {
      "cell_type": "code",
      "execution_count": 1,
      "metadata": {
        "id": "uwrEl34R8tGl"
      },
      "outputs": [],
      "source": [
        "def exibir_tabuleiro(tabuleiro):\n",
        "    \"\"\"\n",
        "    Função para exibir o tabuleiro atual.\n",
        "    \"\"\"\n",
        "    for linha in tabuleiro:\n",
        "        print(\"|\".join(linha))\n",
        "        print(\"-----\")"
      ]
    },
    {
      "cell_type": "code",
      "source": [
        "def verificar_vencedor(tabuleiro, jogador):\n",
        "    \"\"\"\n",
        "    Função para verificar se há um vencedor.\n",
        "    \"\"\"\n",
        "    # Verificar linhas\n",
        "    for linha in tabuleiro:\n",
        "        if all(mark == jogador for mark in linha):\n",
        "            return True\n",
        "\n",
        "             # Verificar colunas\n",
        "    for col in range(3):\n",
        "        if all(tabuleiro[row][col] == jogador for row in range(3)):\n",
        "            return True\n",
        "\n",
        "    # Verificar diagonal principal\n",
        "    if all(tabuleiro[i][i] == jogador for i in range(3)):\n",
        "        return True\n",
        "\n",
        "    # Verificar diagonal secundária\n",
        "    if all(tabuleiro[i][2 - i] == jogador for i in range(3)):\n",
        "        return True\n",
        "\n",
        "    return False"
      ],
      "metadata": {
        "id": "knzHVjNm8wf4"
      },
      "execution_count": 2,
      "outputs": []
    },
    {
      "cell_type": "code",
      "source": [
        "def verificar_empate(tabuleiro):\n",
        "    \"\"\"\n",
        "    Função para verificar se houve um empate.\n",
        "    \"\"\"\n",
        "    for linha in tabuleiro:\n",
        "        if \" \" in linha:\n",
        "            return False\n",
        "    return True"
      ],
      "metadata": {
        "id": "q9EExzFN8y9C"
      },
      "execution_count": 3,
      "outputs": []
    },
    {
      "cell_type": "code",
      "source": [
        "def jogada_valida(tabuleiro, linha, coluna):\n",
        "    \"\"\"\n",
        "    Função para verificar se uma jogada é válida.\n",
        "    \"\"\"\n",
        "    if linha < 0 or linha >= 3 or coluna < 0 or coluna >= 3:\n",
        "        return False\n",
        "    if tabuleiro[linha][coluna] != \" \":\n",
        "        return False\n",
        "    return True"
      ],
      "metadata": {
        "id": "GdB2A80M86J5"
      },
      "execution_count": 4,
      "outputs": []
    },
    {
      "cell_type": "code",
      "source": [
        "def jogo_da_velha():\n",
        "    \"\"\"\n",
        "    Função principal para iniciar o jogo da velha.\n",
        "    \"\"\"\n",
        "    tabuleiro = [[\" \" for _ in range(3)] for _ in range(3)]\n",
        "    jogador_atual = \"X\"\n",
        "\n",
        "    while True:\n",
        "        exibir_tabuleiro(tabuleiro)\n",
        "        linha = int(input(f\"Jogador {jogador_atual}, digite a linha (0, 1 ou 2): \"))\n",
        "        coluna = int(input(f\"Jogador {jogador_atual}, digite a coluna (0, 1 ou 2): \"))\n",
        "\n",
        "        if not jogada_valida(tabuleiro, linha, coluna):\n",
        "            print(\"Jogada inválida. Tente novamente.\")\n",
        "            continue\n",
        "\n",
        "        tabuleiro[linha][coluna] = jogador_atual\n",
        "\n",
        "        if verificar_vencedor(tabuleiro, jogador_atual):\n",
        "            exibir_tabuleiro(tabuleiro)\n",
        "            print(f\"Parabéns! Jogador {jogador_atual} venceu!\")\n",
        "            break\n",
        "        elif verificar_empate(tabuleiro):\n",
        "            exibir_tabuleiro(tabuleiro)\n",
        "            print(\"Empate!\")\n",
        "            break\n",
        "\n",
        "        jogador_atual = \"O\" if jogador_atual == \"X\" else \"X\"\n",
        "\n",
        "\n",
        "# Iniciar o jogo\n",
        "jogo_da_velha()"
      ],
      "metadata": {
        "colab": {
          "base_uri": "https://localhost:8080/"
        },
        "id": "KJTp5xgX87h_",
        "outputId": "0489e048-3a43-4aa6-b24e-528abe085089"
      },
      "execution_count": 5,
      "outputs": [
        {
          "output_type": "stream",
          "name": "stdout",
          "text": [
            " | | \n",
            "-----\n",
            " | | \n",
            "-----\n",
            " | | \n",
            "-----\n",
            "Jogador X, digite a linha (0, 1 ou 2): 0\n",
            "Jogador X, digite a coluna (0, 1 ou 2): 2\n",
            " | |X\n",
            "-----\n",
            " | | \n",
            "-----\n",
            " | | \n",
            "-----\n",
            "Jogador O, digite a linha (0, 1 ou 2): 1\n",
            "Jogador O, digite a coluna (0, 1 ou 2): 1\n",
            " | |X\n",
            "-----\n",
            " |O| \n",
            "-----\n",
            " | | \n",
            "-----\n",
            "Jogador X, digite a linha (0, 1 ou 2): 2\n",
            "Jogador X, digite a coluna (0, 1 ou 2): 2\n",
            " | |X\n",
            "-----\n",
            " |O| \n",
            "-----\n",
            " | |X\n",
            "-----\n",
            "Jogador O, digite a linha (0, 1 ou 2): 0\n",
            "Jogador O, digite a coluna (0, 1 ou 2): 1\n",
            " |O|X\n",
            "-----\n",
            " |O| \n",
            "-----\n",
            " | |X\n",
            "-----\n",
            "Jogador X, digite a linha (0, 1 ou 2): 1\n",
            "Jogador X, digite a coluna (0, 1 ou 2): 2\n",
            " |O|X\n",
            "-----\n",
            " |O|X\n",
            "-----\n",
            " | |X\n",
            "-----\n",
            "Parabéns! Jogador X venceu!\n"
          ]
        }
      ]
    }
  ]
}